{
 "cells": [
  {
   "cell_type": "code",
   "execution_count": 1,
   "metadata": {},
   "outputs": [
    {
     "ename": "ModuleNotFoundError",
     "evalue": "No module named 'psbody'",
     "output_type": "error",
     "traceback": [
      "\u001b[0;31m---------------------------------------------------------------------------\u001b[0m",
      "\u001b[0;31mModuleNotFoundError\u001b[0m                       Traceback (most recent call last)",
      "\u001b[0;32m<ipython-input-1-73b99560ba78>\u001b[0m in \u001b[0;36m<module>\u001b[0;34m\u001b[0m\n\u001b[1;32m     11\u001b[0m \u001b[0;32mfrom\u001b[0m \u001b[0mhelpers\u001b[0m \u001b[0;32mimport\u001b[0m \u001b[0;34m*\u001b[0m\u001b[0;34m\u001b[0m\u001b[0;34m\u001b[0m\u001b[0m\n\u001b[1;32m     12\u001b[0m \u001b[0;34m\u001b[0m\u001b[0m\n\u001b[0;32m---> 13\u001b[0;31m \u001b[0;32mimport\u001b[0m \u001b[0mmesh_operations\u001b[0m\u001b[0;34m\u001b[0m\u001b[0;34m\u001b[0m\u001b[0m\n\u001b[0m\u001b[1;32m     14\u001b[0m \u001b[0mdevice\u001b[0m \u001b[0;34m=\u001b[0m \u001b[0mget_device\u001b[0m\u001b[0;34m(\u001b[0m\u001b[0;34m)\u001b[0m\u001b[0;34m\u001b[0m\u001b[0;34m\u001b[0m\u001b[0m\n\u001b[1;32m     15\u001b[0m \u001b[0;32mfrom\u001b[0m \u001b[0mIPython\u001b[0m\u001b[0;34m.\u001b[0m\u001b[0mdisplay\u001b[0m \u001b[0;32mimport\u001b[0m \u001b[0mdisplay\u001b[0m\u001b[0;34m\u001b[0m\u001b[0;34m\u001b[0m\u001b[0m\n",
      "\u001b[0;32m~/Leeds/doctorado/repos/pytorch_coma/mesh_operations.py\u001b[0m in \u001b[0;36m<module>\u001b[0;34m\u001b[0m\n\u001b[1;32m      3\u001b[0m \u001b[0;32mimport\u001b[0m \u001b[0mnumpy\u001b[0m \u001b[0;32mas\u001b[0m \u001b[0mnp\u001b[0m\u001b[0;34m\u001b[0m\u001b[0;34m\u001b[0m\u001b[0m\n\u001b[1;32m      4\u001b[0m \u001b[0;32mimport\u001b[0m \u001b[0mscipy\u001b[0m\u001b[0;34m.\u001b[0m\u001b[0msparse\u001b[0m \u001b[0;32mas\u001b[0m \u001b[0msp\u001b[0m\u001b[0;34m\u001b[0m\u001b[0;34m\u001b[0m\u001b[0m\n\u001b[0;32m----> 5\u001b[0;31m \u001b[0;32mfrom\u001b[0m \u001b[0mpsbody\u001b[0m\u001b[0;34m.\u001b[0m\u001b[0mmesh\u001b[0m \u001b[0;32mimport\u001b[0m \u001b[0mMesh\u001b[0m\u001b[0;34m\u001b[0m\u001b[0;34m\u001b[0m\u001b[0m\n\u001b[0m\u001b[1;32m      6\u001b[0m \u001b[0;34m\u001b[0m\u001b[0m\n\u001b[1;32m      7\u001b[0m \u001b[0;32mdef\u001b[0m \u001b[0mrow\u001b[0m\u001b[0;34m(\u001b[0m\u001b[0mA\u001b[0m\u001b[0;34m)\u001b[0m\u001b[0;34m:\u001b[0m\u001b[0;34m\u001b[0m\u001b[0;34m\u001b[0m\u001b[0m\n",
      "\u001b[0;31mModuleNotFoundError\u001b[0m: No module named 'psbody'"
     ]
    }
   ],
   "source": [
    "import os, shlex\n",
    "from subprocess import check_output\n",
    "repo_rootdir = check_output(shlex.split(\"git rev-parse --show-toplevel\")).strip().decode('ascii')\n",
    "os.chdir(repo_rootdir)\n",
    "\n",
    "import os\n",
    "import sys\n",
    "import torch\n",
    "\n",
    "from config_parser import read_config\n",
    "from helpers import *\n",
    "\n",
    "import mesh_operations\n",
    "device = get_device()\n",
    "from IPython.display import display\n",
    "\n",
    "import ipywidgets as widgets\n",
    "\n",
    "import pyvista as pv\n",
    "from ipywidgets import interact, interactive, fixed, interact_manual\n",
    "import numpy"
   ]
  },
  {
   "cell_type": "code",
   "execution_count": 2,
   "metadata": {},
   "outputs": [
    {
     "data": {
      "application/vnd.jupyter.widget-view+json": {
       "model_id": "46f68a37dae54b42aae7fa2a4c49fd25",
       "version_major": 2,
       "version_minor": 0
      },
      "text/plain": [
       "Dropdown(description='Experiment:', options=('2020-08-27_04-58-31', '2020-08-27_04-59-39', '2020-08-27_04-59-4…"
      ]
     },
     "metadata": {},
     "output_type": "display_data"
    }
   ],
   "source": [
    "output_dir = \"output\"\n",
    "experiments = [x for x in sorted(os.listdir(output_dir)) if os.path.exists(os.path.join(output_dir, x, \".finished\"))]\n",
    "# experiments = [x for x in sorted(os.listdir(output_dir))]# if os.path.exists(os.path.join(output_dir, x, \".finished\"))]\n",
    "w = widgets.Dropdown(\n",
    "    value='2020-08-27_04-58-31',\n",
    "    options=experiments,\n",
    "    description='Experiment:',\n",
    "    disabled=False,\n",
    ")\n",
    "\n",
    "display(w)"
   ]
  },
  {
   "cell_type": "code",
   "execution_count": 3,
   "metadata": {},
   "outputs": [
    {
     "name": "stderr",
     "output_type": "stream",
     "text": [
      "2020-09-16 15:53:01,858 [ERROR] Unsupported point attribute type: point_data for file: ./template/template.vtk\n"
     ]
    }
   ],
   "source": [
    "import ExperimentClass\n",
    "# Load experiment\n",
    "experiment = ExperimentClass.ComaExperiment(os.path.join(output_dir, w.value))\n",
    "experiment.load_model()"
   ]
  },
  {
   "cell_type": "code",
   "execution_count": 4,
   "metadata": {},
   "outputs": [],
   "source": [
    "# Load meshes\n",
    "prealigned_meshes = experiment.load_prealigned_meshes()\n",
    "dataloader = get_loader(prealigned_meshes.vertices, prealigned_meshes.ids, batch_size=8, num_workers=4, shuffle=False)\n",
    "\n",
    "# map subject ID with position\n",
    "id_dict = {k:v for v,k in enumerate(prealigned_meshes.ids)}"
   ]
  },
  {
   "cell_type": "code",
   "execution_count": 5,
   "metadata": {},
   "outputs": [],
   "source": [
    "def get_mesh_for_id(dataloader, id, id_dict):\n",
    "    position = id_dict[id]\n",
    "    return dataloader.dataset[position][0].unsqueeze(0)\n",
    "\n",
    "def reconstruct(exper, mesh):\n",
    "\n",
    "    model = exper.model\n",
    "    with torch.no_grad():\n",
    "        if model.is_variational:\n",
    "            mu, log_var = model.encoder(x=mesh)\n",
    "            z = mu\n",
    "        else:\n",
    "            z = model.encoder(x=mesh)\n",
    "        mesh_r = model.decoder(z)\n",
    "    return mesh_r"
   ]
  },
  {
   "cell_type": "code",
   "execution_count": 6,
   "metadata": {},
   "outputs": [],
   "source": [
    "wcb=widgets.Combobox(\n",
    "    placeholder=\"Choose a subject\",\n",
    "    options=sorted(prealigned_meshes.ids),\n",
    "    value=\"1000336\"\n",
    ")"
   ]
  },
  {
   "cell_type": "code",
   "execution_count": 12,
   "metadata": {},
   "outputs": [
    {
     "data": {
      "application/vnd.jupyter.widget-view+json": {
       "model_id": "8f4efda5f67f43cca2ad89aa72a32f97",
       "version_major": 2,
       "version_minor": 0
      },
      "text/plain": [
       "interactive(children=(Combobox(value='4855542', description='id', options=('1000336', '1000380', '1000407', '1…"
      ]
     },
     "metadata": {},
     "output_type": "display_data"
    },
    {
     "data": {
      "text/plain": [
       "<function __main__.f(id, reconstructed=True, deviation=True)>"
      ]
     },
     "execution_count": 12,
     "metadata": {},
     "output_type": "execute_result"
    }
   ],
   "source": [
    "def plot_mesh(mesh):\n",
    "  kargs = {\"point_size\": 5, \"render_points_as_spheres\": True}\n",
    "  plotter = pv.Plotter(notebook=True)\n",
    "  plotter.add_mesh(mesh, **kargs)\n",
    "  plotter.show(interactive=True)\n",
    "  plotter.enable()\n",
    "\n",
    "def f(id, reconstructed=True, deviation=True):\n",
    "  try:\n",
    "    mesh = get_mesh_for_id(dataloader, id, id_dict)\n",
    "    _mesh = reconstruct(experiment, mesh) if reconstructed else mesh\n",
    "    _mesh = _mesh.detach().numpy() if deviation else prealigned_meshes.mean + prealigned_meshes.std * _mesh.detach().numpy()\n",
    "    plot_mesh(_mesh.squeeze(0))\n",
    "  except:\n",
    "    pass\n",
    "    \n",
    "interact(f, \n",
    "  id=wcb,\n",
    "  reconstructed=True,\n",
    "  deviation=True\n",
    ")"
   ]
  },
  {
   "cell_type": "code",
   "execution_count": 9,
   "metadata": {},
   "outputs": [],
   "source": [
    "def reconstruct_from_z(experiment, z):\n",
    "    model = experiment.model\n",
    "    with torch.no_grad():\n",
    "        mesh_r = model.decoder(z)\n",
    "    return mesh_r    "
   ]
  },
  {
   "cell_type": "code",
   "execution_count": 10,
   "metadata": {},
   "outputs": [
    {
     "data": {
      "application/vnd.jupyter.widget-view+json": {
       "model_id": "76970b80da9c4bf9b012f7968db15a06",
       "version_major": 2,
       "version_minor": 0
      },
      "text/plain": [
       "interactive(children=(FloatSlider(value=0.0, description='z0', max=3.0, min=-3.0, step=1.0), FloatSlider(value…"
      ]
     },
     "metadata": {},
     "output_type": "display_data"
    },
    {
     "data": {
      "text/plain": [
       "<function __main__.g(z0, z1, z2, z3, z4, z5, z6, z7, deviation=True)>"
      ]
     },
     "execution_count": 10,
     "metadata": {},
     "output_type": "execute_result"
    }
   ],
   "source": [
    "def g(z0, z1, z2, z3, z4, z5, z6, z7, deviation=True):\n",
    "    \n",
    "    z = torch.Tensor([z0, z1, z2, z3, z4, z5, z6, z7])    \n",
    "    mesh = reconstruct_from_z(experiment, z.unsqueeze(0)) # get_mesh_for_id(dataloader, id, id_dict)\n",
    "    _mesh = mesh.detach().numpy() if deviation else prealigned_meshes.mean + prealigned_meshes.std * mesh.detach().numpy()\n",
    "    plot_mesh(_mesh.squeeze(0))\n",
    "\n",
    "z_sliders = {\"z\"+str(i):widgets.FloatSlider(value=0, min=-3, max=3, step=1) for i in range(experiment.config['z'])}\n",
    "\n",
    "interact(g, \n",
    "  **z_sliders,\n",
    "  deviation=True\n",
    ")"
   ]
  },
  {
   "cell_type": "code",
   "execution_count": null,
   "metadata": {},
   "outputs": [],
   "source": [
    "z = torch.Tensor([0]*8)\n",
    "mesh = reconstruct_from_z(experiment, z.unsqueeze(0))\n",
    "grid = pv.StructuredGrid(mesh[0,:,0], mesh[0,:,1], mesh[0,:,2])                                                                                                                                                                                                                                                                                                                                                                                                                                                                                                                                                                                                                                                                                                                                  \n",
    "plotter = pv.Plotter()\n",
    "plotter.add_mesh(grid, smooth_shading=True)\n",
    "\n",
    "print('Orient the view, then press \"q\" to close window and produce movie')\n",
    "\n",
    "# setup camera and close\n",
    "plotter.show(auto_close=False)"
   ]
  }
 ],
 "metadata": {
  "kernelspec": {
   "display_name": "Python 3",
   "language": "python",
   "name": "python3"
  },
  "language_info": {
   "codemirror_mode": {
    "name": "ipython",
    "version": 3
   },
   "file_extension": ".py",
   "mimetype": "text/x-python",
   "name": "python",
   "nbconvert_exporter": "python",
   "pygments_lexer": "ipython3",
   "version": "3.7.4"
  }
 },
 "nbformat": 4,
 "nbformat_minor": 2
}
