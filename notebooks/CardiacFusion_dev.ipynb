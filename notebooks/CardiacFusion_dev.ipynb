{
 "cells": [
  {
   "cell_type": "code",
   "execution_count": 1,
   "metadata": {},
   "outputs": [],
   "source": [
    "import shlex\n",
    "import os\n",
    "# move to repo's root dir\n",
    "os.chdir(check_output(shlex.split(\"git rev-parse --show-toplevel\")).strip().decode('ascii'))\n",
    "\n",
    "import pandas as pd\n",
    "import prepTabularData\n",
    "from config_parser import read_config\n",
    "from helpers import load_cardiac_dataset\n",
    "import numpy as np"
   ]
  },
  {
   "cell_type": "code",
   "execution_count": 2,
   "metadata": {},
   "outputs": [
    {
     "name": "stdout",
     "output_type": "stream",
     "text": [
      "Writing default config file - /home/ubuntu/src/pytorch_coma/config_files/default.cfg\r\n"
     ]
    }
   ],
   "source": [
    "!python config_parser.py"
   ]
  },
  {
   "cell_type": "code",
   "execution_count": 3,
   "metadata": {},
   "outputs": [],
   "source": [
    "config = read_config(\"config_files/default.cfg\")"
   ]
  },
  {
   "cell_type": "code",
   "execution_count": 4,
   "metadata": {},
   "outputs": [],
   "source": [
    "# python config_parser.py\n",
    "# Change default.cfg\n",
    "# python main.py -c config_files/default.cfg"
   ]
  },
  {
   "cell_type": "code",
   "execution_count": 5,
   "metadata": {},
   "outputs": [],
   "source": [
    "pd.set_option('display.max_columns', None)\n",
    "tabla = pd.read_csv(config['tabular_data_file'])    \n",
    "pData = prepTabularData.PrepData(tabla)"
   ]
  },
  {
   "cell_type": "code",
   "execution_count": 6,
   "metadata": {},
   "outputs": [
    {
     "name": "stderr",
     "output_type": "stream",
     "text": [
      "2020-09-08 14:47:45,065 [INFO] Performing Procrustes analysis\n",
      "2020-09-08 14:48:33,208 [INFO] Generalized Procrustes analysis performed after 3 iterations\n",
      "2020-09-08 14:48:39,510 [INFO] Vertices normalized\n"
     ]
    }
   ],
   "source": [
    "from cardiac_mesh import CardiacMesh\n",
    "from helpers import get_template_mesh\n",
    "cardiac_dataset = CardiacMesh(\n",
    "    nTraining=config['nTraining'],\n",
    "    nVal=config['nVal'],\n",
    "    meshes_file=config['data_dir'],\n",
    "    ids_file=config['ids_file'],\n",
    "    reference_mesh=get_template_mesh(config),\n",
    "    mode=\"testing\",\n",
    "    subpart=CardiacMesh.SUBPARTS_IDS[config['partition']],\n",
    "    procrustes_scaling=config[\"procrustes_scaling\"],\n",
    "    procrustes_type=config[\"procrustes_type\"]\n",
    ")"
   ]
  },
  {
   "cell_type": "code",
   "execution_count": 8,
   "metadata": {},
   "outputs": [],
   "source": [
    "from helpers import get_loader\n",
    "loader = get_loader(cardiac_dataset, pData, 16, 1)"
   ]
  },
  {
   "cell_type": "code",
   "execution_count": 9,
   "metadata": {},
   "outputs": [
    {
     "data": {
      "text/plain": [
       "[torch.Size([1]),\n",
       " torch.Size([50]),\n",
       " torch.Size([31]),\n",
       " torch.Size([31]),\n",
       " torch.Size([2677, 3])]"
      ]
     },
     "execution_count": 9,
     "metadata": {},
     "output_type": "execute_result"
    }
   ],
   "source": [
    "[x.shape for x in loader.dataset[0]]"
   ]
  },
  {
   "cell_type": "code",
   "execution_count": null,
   "metadata": {},
   "outputs": [],
   "source": []
  }
 ],
 "metadata": {
  "kernelspec": {
   "display_name": "Python 3",
   "language": "python",
   "name": "python3"
  },
  "language_info": {
   "codemirror_mode": {
    "name": "ipython",
    "version": 3
   },
   "file_extension": ".py",
   "mimetype": "text/x-python",
   "name": "python",
   "nbconvert_exporter": "python",
   "pygments_lexer": "ipython3",
   "version": "3.6.11"
  }
 },
 "nbformat": 4,
 "nbformat_minor": 4
}
