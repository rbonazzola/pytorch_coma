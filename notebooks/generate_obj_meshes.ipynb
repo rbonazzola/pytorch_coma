{
 "cells": [
  {
   "cell_type": "code",
   "execution_count": 53,
   "metadata": {},
   "outputs": [],
   "source": [
    "import os, shlex\n",
    "from subprocess import check_output\n",
    "repo_rootdir = check_output(shlex.split(\"git rev-parse --show-toplevel\")).strip().decode('ascii')\n",
    "os.chdir(repo_rootdir)\n",
    "\n",
    "from config.config_parser import read_default_config\n",
    "config = read_default_config()"
   ]
  },
  {
   "cell_type": "code",
   "execution_count": 54,
   "metadata": {},
   "outputs": [
    {
     "name": "stdout",
     "output_type": "stream",
     "text": [
      "Writing default config file - config_files/default.cfg\n"
     ]
    }
   ],
   "source": []
  },
  {
   "cell_type": "code",
   "execution_count": 55,
   "metadata": {},
   "outputs": [
    {
     "name": "stderr",
     "output_type": "stream",
     "text": [
      "2020-09-23 14:03:04,012 [INFO] Loading pre-aligned mesh data from data/meshes/numpy_files/LV_all_subjects/LV_GPA_meshes.pkl\n"
     ]
    }
   ],
   "source": [
    "from helpers import load_cardiac_dataset\n",
    "cardiac_dataset = load_cardiac_dataset(config)\n",
    "kk = cardiac_dataset.vertices[range(0, 10000, 1000),:,:]\n",
    "kk = kk *  cardiac_dataset.std +  cardiac_dataset.mean\n",
    "pp = open(\"data/meshes/faces.txt\").readlines()\n",
    "pp = [[str(int(x)+1) for x in line.split()] for line in pp]\n",
    "pp"
   ]
  },
  {
   "cell_type": "code",
   "execution_count": 57,
   "metadata": {},
   "outputs": [],
   "source": [
    "for k, mesh in enumerate(kk):\n",
    "    with open(\"data/meshes/obj/mesh{}.obj\".format(k), \"w\") as obj_h:\n",
    "        for i in range(mesh.shape[0]):\n",
    "            obj_h.write(\"%s\\n\" % \"\\t\".join([\"v\"] + [str(x) for x in mesh[i,:]]))\n",
    "        for ss in pp:\n",
    "            obj_h.write(\"f\\t%s\\n\" % \"\\t\".join(ss))"
   ]
  }
 ],
 "metadata": {
  "kernelspec": {
   "display_name": "Python 3",
   "language": "python",
   "name": "python3"
  },
  "language_info": {
   "codemirror_mode": {
    "name": "ipython",
    "version": 3
   },
   "file_extension": ".py",
   "mimetype": "text/x-python",
   "name": "python",
   "nbconvert_exporter": "python",
   "pygments_lexer": "ipython3",
   "version": "3.7.4"
  }
 },
 "nbformat": 4,
 "nbformat_minor": 2
}
