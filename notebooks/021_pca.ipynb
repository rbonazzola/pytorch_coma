{
 "cells": [
  {
   "cell_type": "code",
   "execution_count": 1,
   "metadata": {},
   "outputs": [],
   "source": [
    "import os, shlex\n",
    "from subprocess import check_output\n",
    "repo_rootdir = check_output(shlex.split(\"git rev-parse --show-toplevel\")).strip().decode('ascii')\n",
    "os.chdir(repo_rootdir)\n",
    "\n",
    "from random import shuffle\n",
    "import numpy as np\n",
    "import ipywidgets as widgets\n",
    "import yaml\n",
    "from copy import deepcopy\n",
    "import json\n",
    "import re\n",
    "import itertools\n",
    "import numpy as np\n",
    "import scipy\n",
    "\n",
    "from scipy.spatial import procrustes as procrustes\n",
    "\n",
    "import glob, os, json\n",
    "import pandas as pd\n",
    "\n",
    "from VTK.VTKMesh import VTKObject as Mesh\n",
    "from cardiac_mesh import CardiacMesh\n",
    "from sklearn.decomposition import PCA, IncrementalPCA as IPCA\n",
    "import pickle\n",
    "from config_parser import read_default_config"
   ]
  },
  {
   "cell_type": "markdown",
   "metadata": {},
   "source": [
    "## Definitions of paths and constants"
   ]
  },
  {
   "cell_type": "code",
   "execution_count": 3,
   "metadata": {},
   "outputs": [],
   "source": [
    "config = read_default_config()\n",
    "config['nTraining'] = 3200\n",
    "cardiac_data = pickle.load(open(config[\"preprocessed_data\"], \"rb\"))\n",
    "\n",
    "output_dir = \"output/PCA__LV__%s_samples\" % config['nTraining']"
   ]
  },
  {
   "cell_type": "code",
   "execution_count": 6,
   "metadata": {},
   "outputs": [
    {
     "name": "stdout",
     "output_type": "stream",
     "text": [
      "1\n",
      "2\n",
      "3\n",
      "4\n",
      "5\n",
      "6\n",
      "7\n",
      "8\n",
      "9\n",
      "10\n",
      "11\n",
      "12\n",
      "13\n",
      "14\n",
      "15\n",
      "16\n"
     ]
    }
   ],
   "source": [
    "perf_dfs = []\n",
    "n_comps = 16\n",
    "\n",
    "# meshes_lst, ids_lst = flattened_partition(cardiac_data, config[\"nTraining\"])\n",
    "shuffled_ids = [x for x in range(len(cardiac_data.ids))]\n",
    "shuffle(shuffled_ids)\n",
    "    \n",
    "flattened_meshes = cardiac_data.vertices[shuffled_ids,:,:].reshape(cardiac_data.N,-1)\n",
    "\n",
    "for n in range(1, n_comps+1):\n",
    "  \n",
    "  print(n)\n",
    "  \n",
    "  #TODO: This doesn't have to be done again for each n, but I need to figure out how to do it.\n",
    "  training_meshes = flattened_meshes[:config['nTraining'],:]\n",
    "  pp = PCA(n).fit(training_meshes)    \n",
    "    \n",
    "  meshes_reduced = pp.transform(flattened_meshes)\n",
    "  meshes_reconstructed = pp.inverse_transform(meshes_reduced)\n",
    "  mse = ((flattened_meshes - meshes_reconstructed)**2).mean(axis=1)\n",
    "  \n",
    "  mse_shuffled = ((flattened_meshes - meshes_reconstructed[shuffled_ids,:])**2).mean(axis=1)\n",
    "    \n",
    "  perf_df = pd.DataFrame({\n",
    "    \"model_id\": [\"PCA__LV__{}_comps__{}_samples\".format(str(n), str(config['nTraining']))] * cardiac_data.N,\n",
    "    \"subject_id\": cardiac_data.ids,\n",
    "    \"subset\": [\"training\"] * config['nTraining'] + [\"test\"] * (cardiac_data.N - config['nTraining']),\n",
    "    \"mse\": mse,\n",
    "    \"mse_shuffled\": mse_shuffled,\n",
    "    \"n\": [n] * cardiac_data.N,      \n",
    "  })\n",
    "  \n",
    "  perf_df.index = cardiac_data.ids\n",
    "  perf_dfs.append(perf_df)\n",
    "        "
   ]
  },
  {
   "cell_type": "code",
   "execution_count": 15,
   "metadata": {},
   "outputs": [
    {
     "ename": "TypeError",
     "evalue": "write() argument must be str, not bytes",
     "output_type": "error",
     "traceback": [
      "\u001b[0;31m---------------------------------------------------------------------------\u001b[0m",
      "\u001b[0;31mTypeError\u001b[0m                                 Traceback (most recent call last)",
      "\u001b[0;32m<ipython-input-15-7fcec51f04f2>\u001b[0m in \u001b[0;36m<module>\u001b[0;34m\u001b[0m\n\u001b[1;32m      2\u001b[0m     \u001b[0mos\u001b[0m\u001b[0;34m.\u001b[0m\u001b[0mmakedirs\u001b[0m\u001b[0;34m(\u001b[0m\u001b[0moutput_dir\u001b[0m\u001b[0;34m)\u001b[0m\u001b[0;34m\u001b[0m\u001b[0;34m\u001b[0m\u001b[0m\n\u001b[1;32m      3\u001b[0m \u001b[0;34m\u001b[0m\u001b[0m\n\u001b[0;32m----> 4\u001b[0;31m \u001b[0mpickle\u001b[0m\u001b[0;34m.\u001b[0m\u001b[0mdump\u001b[0m\u001b[0;34m(\u001b[0m\u001b[0mpp\u001b[0m\u001b[0;34m,\u001b[0m \u001b[0mopen\u001b[0m\u001b[0;34m(\u001b[0m\u001b[0;34m\"%s/PCA_model.pkl\"\u001b[0m \u001b[0;34m%\u001b[0m \u001b[0moutput_dir\u001b[0m\u001b[0;34m,\u001b[0m \u001b[0;34m\"w\"\u001b[0m\u001b[0;34m)\u001b[0m\u001b[0;34m)\u001b[0m\u001b[0;34m\u001b[0m\u001b[0;34m\u001b[0m\u001b[0m\n\u001b[0m\u001b[1;32m      5\u001b[0m \u001b[0;34m\u001b[0m\u001b[0m\n\u001b[1;32m      6\u001b[0m \u001b[0mlatent_space_df\u001b[0m \u001b[0;34m=\u001b[0m \u001b[0mpd\u001b[0m\u001b[0;34m.\u001b[0m\u001b[0mDataFrame\u001b[0m\u001b[0;34m(\u001b[0m\u001b[0mmeshes_reduced\u001b[0m\u001b[0;34m,\u001b[0m \u001b[0mcolumns\u001b[0m\u001b[0;34m=\u001b[0m\u001b[0;34m[\u001b[0m\u001b[0;34m\"z\"\u001b[0m\u001b[0;34m+\u001b[0m\u001b[0mstr\u001b[0m\u001b[0;34m(\u001b[0m\u001b[0mi\u001b[0m\u001b[0;34m)\u001b[0m \u001b[0;32mfor\u001b[0m \u001b[0mi\u001b[0m \u001b[0;32min\u001b[0m \u001b[0mrange\u001b[0m\u001b[0;34m(\u001b[0m\u001b[0mmeshes_reduced\u001b[0m\u001b[0;34m.\u001b[0m\u001b[0mshape\u001b[0m\u001b[0;34m[\u001b[0m\u001b[0;36m1\u001b[0m\u001b[0;34m]\u001b[0m\u001b[0;34m)\u001b[0m\u001b[0;34m]\u001b[0m\u001b[0;34m)\u001b[0m\u001b[0;34m\u001b[0m\u001b[0;34m\u001b[0m\u001b[0m\n",
      "\u001b[0;31mTypeError\u001b[0m: write() argument must be str, not bytes"
     ]
    }
   ],
   "source": [
    "if not os.path.exists(output_dir):\n",
    "    os.makedirs(output_dir)\n",
    "    \n",
    "pickle.dump(pp, open(\"%s/PCA_model.pkl\" % output_dir, \"w\"))\n",
    "\n",
    "latent_space_df = pd.DataFrame(meshes_reduced, columns=[\"z\"+str(i) for i in range(meshes_reduced.shape[1])])\n",
    "latent_space_df['subset'] = pd.Series([\"training\"] * config['nTraining'] + [\"test\"] * (cardiac_data.N - config['nTraining']))\n",
    "latent_space_df.index = cardiac_data.ids\n",
    "\n",
    "perf_df_all = pd.concat(perf_dfs)\n",
    "perf_df_all\n",
    "\n",
    "perf_df_all.to_csv(\"%s/performance.csv\" % output_dir, index_label=\"ID\")\n",
    "latent_space_df.to_csv(\"%s/latent_space.csv\" % output_dir, index_label=\"ID\")"
   ]
  },
  {
   "cell_type": "code",
   "execution_count": 12,
   "metadata": {},
   "outputs": [
    {
     "data": {
      "text/plain": [
       "'output/PCA__LV__3200_samples'"
      ]
     },
     "execution_count": 12,
     "metadata": {},
     "output_type": "execute_result"
    }
   ],
   "source": [
    "output_dir"
   ]
  },
  {
   "cell_type": "code",
   "execution_count": null,
   "metadata": {},
   "outputs": [],
   "source": []
  }
 ],
 "metadata": {
  "kernelspec": {
   "display_name": "Python 3",
   "language": "python",
   "name": "python3"
  },
  "language_info": {
   "codemirror_mode": {
    "name": "ipython",
    "version": 3
   },
   "file_extension": ".py",
   "mimetype": "text/x-python",
   "name": "python",
   "nbconvert_exporter": "python",
   "pygments_lexer": "ipython3",
   "version": "3.6.10"
  }
 },
 "nbformat": 4,
 "nbformat_minor": 2
}
