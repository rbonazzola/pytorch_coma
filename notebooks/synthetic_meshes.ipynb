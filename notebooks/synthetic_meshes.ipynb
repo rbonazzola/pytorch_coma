{
 "cells": [
  {
   "cell_type": "code",
   "execution_count": 1,
   "id": "international-logging",
   "metadata": {},
   "outputs": [
    {
     "name": "stderr",
     "output_type": "stream",
     "text": [
      "2021-02-09 00:20:49,957 [INFO] No OpenGL_accelerate module loaded: No module named 'OpenGL_accelerate'\n"
     ]
    }
   ],
   "source": [
    "import os, shlex\n",
    "from subprocess import check_output\n",
    "\n",
    "# go to the root of the repository\n",
    "repo_rootdir = check_output(shlex.split(\"git rev-parse --show-toplevel\")).strip().decode('ascii')\n",
    "os.chdir(repo_rootdir)\n",
    "\n",
    "import os\n",
    "import sys\n",
    "sys.path.append(\"utils\")\n",
    "\n",
    "import torch\n",
    "\n",
    "from config.config_parser import read_config\n",
    "from utils.helpers import *\n",
    "\n",
    "import utils.mesh_operations\n",
    "device = get_device()\n",
    "\n",
    "from notebooks.utils_ipywidgets import *\n",
    "from IPython.display import display\n",
    "\n",
    "import ipywidgets as widgets\n",
    "\n",
    "import pyvista as pv\n",
    "from ipywidgets import interact, interactive, fixed, interact_manual\n",
    "import numpy\n",
    "from pprint import pprint\n",
    "\n",
    "import matplotlib.pyplot as plt"
   ]
  },
  {
   "cell_type": "code",
   "execution_count": 2,
   "id": "traditional-skirt",
   "metadata": {},
   "outputs": [
    {
     "data": {
      "application/vnd.jupyter.widget-view+json": {
       "model_id": "33c48a99610240cd86984748a4505110",
       "version_major": 2,
       "version_minor": 0
      },
      "text/plain": [
       "Dropdown(description='Experiment:', index=499, options=('2020-10-12_03-44-42', '2020-10-12_03-07-22', '2020-10…"
      ]
     },
     "metadata": {},
     "output_type": "display_data"
    }
   ],
   "source": [
    "w = select_experiment(); display(w)"
   ]
  },
  {
   "cell_type": "code",
   "execution_count": 6,
   "id": "funky-richmond",
   "metadata": {},
   "outputs": [
    {
     "name": "stderr",
     "output_type": "stream",
     "text": [
      "2021-02-09 00:21:37,936 [ERROR] Unsupported point attribute type: point_data for file: ./template/template.vtk\n"
     ]
    }
   ],
   "source": [
    "import ExperimentClass\n",
    "\n",
    "exp_dir = os.path.join(\"output\", w.value)\n",
    "experiment = ExperimentClass.ComaExperiment(exp_dir)\n",
    "experiment.load_model()\n",
    "experiment.load_z(inplace=True)"
   ]
  },
  {
   "cell_type": "code",
   "execution_count": 7,
   "id": "frozen-cathedral",
   "metadata": {},
   "outputs": [],
   "source": [
    "# Load pre-aligned meshes\n",
    "prealigned_meshes = experiment.load_prealigned_meshes()"
   ]
  },
  {
   "cell_type": "code",
   "execution_count": 8,
   "id": "effective-switzerland",
   "metadata": {},
   "outputs": [
    {
     "data": {
      "application/vnd.jupyter.widget-view+json": {
       "model_id": "cfee53a086af4ae79c09bdddb2752507",
       "version_major": 2,
       "version_minor": 0
      },
      "text/plain": [
       "interactive(children=(FloatSlider(value=0.0, description='z0', max=3.0, min=-3.0, step=1.0), FloatSlider(value…"
      ]
     },
     "metadata": {},
     "output_type": "display_data"
    },
    {
     "data": {
      "text/plain": [
       "<function __main__.g(z0, z1, z2, z3, z4, z5, z6, z7, deviation=True)>"
      ]
     },
     "execution_count": 8,
     "metadata": {},
     "output_type": "execute_result"
    }
   ],
   "source": [
    "def g(z0, z1, z2, z3, z4, z5, z6, z7, deviation=True):\n",
    "    \n",
    "    z = torch.Tensor([z0, z1, z2, z3, z4, z5, z6, z7])    \n",
    "    mesh = experiment.reconstruct_from_z(z.unsqueeze(0))\n",
    "    _mesh = mesh.detach().numpy() if deviation else prealigned_meshes.mean + prealigned_meshes.std * mesh.detach().numpy()\n",
    "    pvplot_mesh(_mesh.squeeze(0))\n",
    "\n",
    "z_sliders = {\"z\"+str(i):widgets.FloatSlider(value=0, min=-3, max=3, step=1) for i in range(experiment.config['z'])}\n",
    "\n",
    "interact(g, \n",
    "  **z_sliders,\n",
    "  deviation=False\n",
    ")"
   ]
  }
 ],
 "metadata": {
  "kernelspec": {
   "display_name": "Coma",
   "language": "python",
   "name": "coma"
  },
  "language_info": {
   "codemirror_mode": {
    "name": "ipython",
    "version": 3
   },
   "file_extension": ".py",
   "mimetype": "text/x-python",
   "name": "python",
   "nbconvert_exporter": "python",
   "pygments_lexer": "ipython3",
   "version": "3.6.10"
  }
 },
 "nbformat": 4,
 "nbformat_minor": 5
}
