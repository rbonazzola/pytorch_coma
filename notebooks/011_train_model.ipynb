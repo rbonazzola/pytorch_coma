{
 "cells": [
  {
   "cell_type": "markdown",
   "metadata": {},
   "source": [
    "## Generate Tensorflow model"
   ]
  },
  {
   "cell_type": "markdown",
   "metadata": {},
   "source": [
    "#### Path definitions"
   ]
  },
  {
   "cell_type": "code",
   "execution_count": null,
   "metadata": {},
   "outputs": [],
   "source": [
    "output_dir = \"/MULTIX/DATA/INPUT/disk_2/coma/Cardio/output/\"\n",
    "checkpoints_dir = \"{}/checkpoints\".format(output_dir)"
   ]
  },
  {
   "cell_type": "code",
   "execution_count": null,
   "metadata": {},
   "outputs": [],
   "source": [
    "w_yaml = widgets.Dropdown(\n",
    "    options= [\n",
    "        x for x in os.listdir(yaml_subdir) \n",
    "          if x.endswith(\".yaml\")\n",
    "            and x.startswith(\"config\")\n",
    "    ],\n",
    "    description='Yaml File',\n",
    "    disabled=False\n",
    ")\n",
    "\n",
    "w_yaml = widgets.Dropdown(\n",
    "    options= [x.strip() for x in open(\"runs_yamls.txt\").readlines()],\n",
    "    description='Yaml File',\n",
    "    disabled=False\n",
    ")\n",
    "\n",
    "\n",
    "display(w_yaml)"
   ]
  },
  {
   "cell_type": "code",
   "execution_count": null,
   "metadata": {},
   "outputs": [],
   "source": [
    "params = yaml.safe_load(open(os.path.join(yaml_subdir, w_yaml.value)))\n",
    "#params['num_epochs'] = 500\n",
    "#params['nTraining'] = 1000\n",
    "#params['nTest'] = 2000\n",
    "#params['nVal'] = 100"
   ]
  },
  {
   "cell_type": "code",
   "execution_count": null,
   "metadata": {},
   "outputs": [],
   "source": [
    "from main import generate_model, run as train\n",
    "train(params)"
   ]
  },
  {
   "cell_type": "code",
   "execution_count": null,
   "metadata": {},
   "outputs": [],
   "source": []
  }
 ],
 "metadata": {
  "kernelspec": {
   "display_name": "Python 3",
   "language": "python",
   "name": "python3"
  },
  "language_info": {
   "codemirror_mode": {
    "name": "ipython",
    "version": 3
   },
   "file_extension": ".py",
   "mimetype": "text/x-python",
   "name": "python",
   "nbconvert_exporter": "python",
   "pygments_lexer": "ipython3",
   "version": "3.6.10"
  }
 },
 "nbformat": 4,
 "nbformat_minor": 2
}
