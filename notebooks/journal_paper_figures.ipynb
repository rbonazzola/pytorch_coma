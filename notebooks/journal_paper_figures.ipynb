{
 "cells": [
  {
   "cell_type": "code",
   "execution_count": 11,
   "id": "supported-university",
   "metadata": {},
   "outputs": [],
   "source": [
    "import os, shlex\n",
    "from subprocess import call, check_output\n",
    "\n",
    "# go to the root of the repository\n",
    "repo_rootdir = check_output(shlex.split(\"git rev-parse --show-toplevel\")).strip().decode('ascii')\n",
    "os.chdir(repo_rootdir)\n",
    "\n",
    "import os\n",
    "import sys\n",
    "sys.path.append(\"utils\")\n",
    "\n",
    "import torch\n",
    "\n",
    "from config.config_parser import read_config\n",
    "from utils.helpers import *\n",
    "\n",
    "import utils.mesh_operations\n",
    "device = get_device()\n",
    "\n",
    "from notebooks.utils_ipywidgets import *\n",
    "from IPython.display import display\n",
    "\n",
    "import ipywidgets as widgets\n",
    "\n",
    "import pyvista as pv\n",
    "from ipywidgets import interact, interactive, fixed, interact_manual\n",
    "import numpy as np\n",
    "from pprint import pprint\n",
    "\n",
    "import matplotlib.pyplot as plt\n",
    "import meshio"
   ]
  },
  {
   "cell_type": "code",
   "execution_count": 12,
   "id": "subsequent-confidentiality",
   "metadata": {},
   "outputs": [
    {
     "name": "stderr",
     "output_type": "stream",
     "text": [
      "2021-02-15 22:16:56,295 [ERROR] Unsupported point attribute type: point_data for file: template/template.vtk\n"
     ]
    }
   ],
   "source": [
    "LV = Mesh(\"template/template.vtk\").extractSubpart([1,2])\n",
    "faces = np.hstack([[3] + list(x) for x in LV.triangles])"
   ]
  },
  {
   "cell_type": "code",
   "execution_count": 54,
   "id": "current-labor",
   "metadata": {},
   "outputs": [],
   "source": [
    "pvpython = \"/home/rodrigo/ProgramFiles/Paraview/ParaView-5.7.0-MPI-Linux-Python3.7-64bit/bin/pvpython\"\n",
    "paraview_script = \"/home/rodrigo/PhD/manuscripts/First_Journal_Paper/scripts/paraview_script.py\""
   ]
  },
  {
   "cell_type": "code",
   "execution_count": 55,
   "id": "liable-animation",
   "metadata": {},
   "outputs": [],
   "source": [
    "def get_nn_in_endo(epi, endo):    \n",
    "    epi_nn_in_endo = {}\n",
    "    for i, _ in enumerate(epi):\n",
    "        distances = np.array([np.linalg.norm(x) for x in (epi[i] - endo)])\n",
    "        nns_idx = distances.argmin()\n",
    "        epi_nn_in_endo[i] = nns_idx\n",
    "    return epi_nn_in_endo"
   ]
  },
  {
   "cell_type": "code",
   "execution_count": 56,
   "id": "quarterly-cornell",
   "metadata": {},
   "outputs": [],
   "source": [
    "def wall_thickness(mesh, epi_nn_in_endo=None):\n",
    "    endo = mesh[LV.subpartID == 1]\n",
    "    epi = mesh[LV.subpartID == 2]\n",
    "    if epi_nn_in_endo is None:        \n",
    "        epi_nn_in_endo = get_nn_in_endo(epi, endo)\n",
    "        \n",
    "    wall_thickness_j = []\n",
    "    for j, _ in enumerate(epi):\n",
    "        wall_thickness_j.append( np.linalg.norm(epi[j] - endo[epi_nn_in_endo[j]]) )\n",
    "    \n",
    "    wt = np.array([np.nan] * mesh.shape[0])\n",
    "    wt[LV.subpartID == 2] = wall_thickness_j\n",
    "    return wt"
   ]
  },
  {
   "cell_type": "code",
   "execution_count": 57,
   "id": "greenhouse-jamaica",
   "metadata": {},
   "outputs": [],
   "source": [
    "def create_figures(model_name):\n",
    "    \n",
    "    import ExperimentClass\n",
    "    \n",
    "    exp_dir = os.path.join(\"output\", model_name)\n",
    "    experiment = ExperimentClass.ComaExperiment(exp_dir)\n",
    "    experiment.load_model()\n",
    "    prealigned_meshes = experiment.load_prealigned_meshes()\n",
    "    \n",
    "    endo = prealigned_meshes.mean[LV.subpartID == 1]\n",
    "    epi = prealigned_meshes.mean[LV.subpartID == 2]\n",
    "    epi_nn_in_endo = get_nn_in_endo(epi, endo)\n",
    "    \n",
    "    all_pngs = []\n",
    "    model_dir = os.path.join(\"output\", model_name)\n",
    "    \n",
    "    for index in range(experiment.config[\"z\"]):\n",
    "        \n",
    "        ei = np.zeros(experiment.config[\"z\"])\n",
    "        ei[index] = 1.0\n",
    "        z_name = \"z\" + str(index)\n",
    "        print(z_name) \n",
    "        png_files = []\n",
    "        \n",
    "        z_dir = os.path.join(model_dir, \"synthetic_meshes\", z_name)\n",
    "        os.makedirs(z_dir, exist_ok=True)\n",
    "        \n",
    "        for factor in range(-3, 4, 1):        \n",
    "            z = ei * factor\n",
    "            mesh = experiment.reconstruct_from_z(torch.Tensor(z).unsqueeze(0))\n",
    "            mesh = mesh[0].detach().numpy()\n",
    "            mesh = prealigned_meshes.mean + prealigned_meshes.std * mesh\n",
    "            # mesh_pv = pv.PolyData(mesh[0].detach().numpy(), faces)\n",
    "            \n",
    "            mesh_file = os.path.join(z_dir, \"{}_eq_{}.vtk\".format(z_name, factor))\n",
    "            \n",
    "            # meshio.write_points_cells(mesh_file, mesh, {'triangle': LV.triangles})\n",
    "            wt = wall_thickness(mesh, epi_nn_in_endo)\n",
    "            meshio.write_points_cells(mesh_file, mesh, {'triangle': LV.triangles}, point_data={\"wall_thickness\": wt})\n",
    "            \n",
    "            png_file = os.path.join(z_dir, \"{}_eq_{}_wt.png\".format(z_name, factor))\n",
    "            command = [pvpython] + [paraview_script] + [\"--input_file\"] + [mesh_file] + [\"--output_file\"] + [png_file]\n",
    "            \n",
    "            if experiment.config[\"procrustes_scaling\"]:\n",
    "                command += [\"--scaled\"]\n",
    "                       \n",
    "            command += [\"--opacity\", \"0.5\"]\n",
    "            # command += [\"--color_scalar\", \"wall_thickness\"]\n",
    "            # command += [\"--color_max\", \"0.01\"]\n",
    "                \n",
    "            call(command)\n",
    "            png_files.append(png_file)\n",
    "            \n",
    "        png_file_pooled = os.path.join(\"output\", model_name, \"synthetic_meshes\", z_name, \"all_values.png\")\n",
    "        command = [\"convert\"] + png_files + [\"+append\"] + [png_file_pooled]                \n",
    "        call(command)    \n",
    "        all_pngs.append(png_file_pooled)\n",
    "        \n",
    "    command = [\"convert\"] + all_pngs + [\"-append\"] + [os.path.join(model_dir, \"synthetic_meshes/all_z.png\")]\n",
    "    call(command)"
   ]
  },
  {
   "cell_type": "code",
   "execution_count": 58,
   "id": "horizontal-congress",
   "metadata": {},
   "outputs": [],
   "source": [
    "# experiments = [\"2020-09-30_12-36-43\", \"2020-09-30_12-36-48\", \"2020-09-11_02-13-41\"]\n",
    "# experiments = [\"2020-09-11_02-13-41\"]\n",
    "experiments = [\"2020-09-30_12-36-48\"]\n"
   ]
  },
  {
   "cell_type": "code",
   "execution_count": 59,
   "id": "chicken-yesterday",
   "metadata": {},
   "outputs": [
    {
     "name": "stderr",
     "output_type": "stream",
     "text": [
      "2021-02-16 02:52:36,471 [ERROR] Unsupported point attribute type: point_data for file: ./template/template.vtk\n"
     ]
    },
    {
     "name": "stdout",
     "output_type": "stream",
     "text": [
      "z0\n",
      "z1\n",
      "z2\n",
      "z3\n",
      "z4\n",
      "z5\n",
      "z6\n",
      "z7\n"
     ]
    }
   ],
   "source": [
    "for experiment in experiments:\n",
    "  create_figures(experiment)"
   ]
  },
  {
   "cell_type": "code",
   "execution_count": null,
   "id": "threaded-alexandria",
   "metadata": {},
   "outputs": [],
   "source": []
  }
 ],
 "metadata": {
  "kernelspec": {
   "display_name": "Coma",
   "language": "python",
   "name": "coma"
  },
  "language_info": {
   "codemirror_mode": {
    "name": "ipython",
    "version": 3
   },
   "file_extension": ".py",
   "mimetype": "text/x-python",
   "name": "python",
   "nbconvert_exporter": "python",
   "pygments_lexer": "ipython3",
   "version": "3.6.10"
  }
 },
 "nbformat": 4,
 "nbformat_minor": 5
}
