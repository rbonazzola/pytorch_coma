{
 "cells": [
  {
   "cell_type": "code",
   "execution_count": 1,
   "metadata": {},
   "outputs": [],
   "source": [
    "import shlex\n",
    "import os\n",
    "from subprocess import check_output\n",
    "import sys\n",
    "import torch\n",
    "import numpy\n",
    "import pyvista as pv\n",
    "\n",
    "os.chdir(check_output(shlex.split(\"git rev-parse --show-toplevel\")).strip().decode('ascii'))\n",
    "from config.config_parser import read_config\n",
    "from helpers import *"
   ]
  },
  {
   "cell_type": "code",
   "execution_count": 2,
   "metadata": {},
   "outputs": [
    {
     "name": "stderr",
     "output_type": "stream",
     "text": [
      "2020-09-09 06:30:53,324 [INFO] No OpenGL_accelerate module loaded: No module named 'OpenGL_accelerate'\n"
     ]
    }
   ],
   "source": [
    "import mesh_operations\n",
    "device = get_device()"
   ]
  },
  {
   "cell_type": "code",
   "execution_count": 3,
   "metadata": {},
   "outputs": [],
   "source": [
    "import ipywidgets as widgets\n",
    "from IPython.display import display"
   ]
  },
  {
   "cell_type": "code",
   "execution_count": 4,
   "metadata": {},
   "outputs": [
    {
     "data": {
      "application/vnd.jupyter.widget-view+json": {
       "model_id": "53527c8e87f3496489fbe718012e6780",
       "version_major": 2,
       "version_minor": 0
      },
      "text/plain": [
       "Dropdown(description='Experiment:', index=6, options=('2020-08-27_05-00-23', '2020-08-27_05-00-30', '2020-08-2…"
      ]
     },
     "metadata": {},
     "output_type": "display_data"
    }
   ],
   "source": [
    "output_dir = \"../pytorch_coma/output/\"\n",
    "experiments = [x for x in os.listdir(output_dir) if os.path.exists(os.path.join(output_dir, x, \".finished\"))]\n",
    "w = widgets.Dropdown(\n",
    "    value='2020-08-27_04-58-31',\n",
    "    options=experiments,\n",
    "    description='Experiment:',\n",
    "    disabled=False,\n",
    ")\n",
    "\n",
    "display(w)"
   ]
  },
  {
   "cell_type": "code",
   "execution_count": 5,
   "metadata": {},
   "outputs": [],
   "source": [
    "import ExperimentClass\n",
    "experiment = ExperimentClass.ComaExperiment(os.path.join(output_dir, w.value))\n",
    "experiment.load_model()"
   ]
  },
  {
   "cell_type": "code",
   "execution_count": 19,
   "metadata": {},
   "outputs": [
    {
     "name": "stderr",
     "output_type": "stream",
     "text": [
      "2020-08-28 13:46:09,188 [ERROR] Unsupported point attribute type: point_data for file: ./template/template.vtk\n",
      "2020-08-28 13:46:10,635 [INFO] Performing Procrustes analysis\n",
      "2020-08-28 13:47:05,235 [INFO] Generalized Procrustes analysis performed after 5 iterations\n",
      "2020-08-28 13:47:07,460 [INFO] Vertices normalized\n"
     ]
    }
   ],
   "source": [
    "dataset = load_cardiac_dataset(experiment.config)\n",
    "dataloader = get_loader(dataset.vertices_val, dataset.val_ids, batch_size=8, num_workers=4, shuffle=False)"
   ]
  },
  {
   "cell_type": "code",
   "execution_count": 90,
   "metadata": {},
   "outputs": [],
   "source": [
    "dataloader = get_loader(dataset.vertices_val, dataset.val_ids, len(dataset.vertices_val), num_workers=4, shuffle=False)"
   ]
  },
  {
   "cell_type": "code",
   "execution_count": 91,
   "metadata": {},
   "outputs": [],
   "source": [
    "experiment.model.eval()\n",
    "torch.no_grad()\n",
    "for mesh, id in dataloader:\n",
    "    if experiment.model.is_variational:\n",
    "        mu, log_var = experiment.model.encoder(x=mesh)\n",
    "        z = mu # coma.sampling(mu, log_var)\n",
    "    else:\n",
    "        z = experiment.model.encoder(x=mesh)\n",
    "    mesh_r = experiment.model.decoder(z)"
   ]
  },
  {
   "cell_type": "code",
   "execution_count": 141,
   "metadata": {},
   "outputs": [
    {
     "data": {
      "application/vnd.jupyter.widget-view+json": {
       "model_id": "6118af2eec5c49d3bee5b07262e411ef",
       "version_major": 2,
       "version_minor": 0
      },
      "text/plain": [
       "interactive(children=(SelectionSlider(description='x', options=(0, 1, 2, 3, 4, 5, 6, 7, 8, 9, 10, 11, 12, 13, …"
      ]
     },
     "metadata": {},
     "output_type": "display_data"
    },
    {
     "data": {
      "text/plain": [
       "<function __main__.f(x, reconstructed=True, normalized=True)>"
      ]
     },
     "execution_count": 141,
     "metadata": {},
     "output_type": "execute_result"
    }
   ],
   "source": [
    "from ipywidgets import interact, interactive, fixed, interact_manual\n",
    "def f(x, reconstructed=True, normalized=True):\n",
    "  _mesh = mesh_r if reconstructed else mesh\n",
    "  _mesh = _mesh[x].detach().numpy() if normalized else dataset.mean + dataset.std * _mesh[x].detach().numpy()\n",
    "\n",
    "  plotter = pv.Plotter(notebook=True)\n",
    "  plotter.add_mesh(_mesh)\n",
    "  plotter.show(interactive=True)\n",
    "  plotter.enable()\n",
    "\n",
    "interact(f, \n",
    "  x=widgets.SelectionSlider(options=range(200)),\n",
    "  #x=widgets.Dropdown(options=range(len(mesh)), description='mesh index:', disabled=False),\n",
    "  reconstructed=True,\n",
    "  normalized=True\n",
    ")"
   ]
  },
  {
   "cell_type": "code",
   "execution_count": 134,
   "metadata": {},
   "outputs": [
    {
     "data": {
      "application/vnd.jupyter.widget-view+json": {
       "model_id": "c9aeda1dd2d3493a80e8baf424ac694c",
       "version_major": 2,
       "version_minor": 0
      },
      "text/plain": [
       "SelectionSlider(options=(0, 1, 2, 3, 4, 5, 6, 7, 8, 9, 10, 11, 12, 13, 14, 15, 16, 17, 18, 19, 20, 21, 22, 23,…"
      ]
     },
     "metadata": {},
     "output_type": "display_data"
    }
   ],
   "source": []
  },
  {
   "cell_type": "code",
   "execution_count": null,
   "metadata": {},
   "outputs": [],
   "source": []
  }
 ],
 "metadata": {
  "kernelspec": {
   "display_name": "Python 3",
   "language": "python",
   "name": "python3"
  },
  "language_info": {
   "codemirror_mode": {
    "name": "ipython",
    "version": 3
   },
   "file_extension": ".py",
   "mimetype": "text/x-python",
   "name": "python",
   "nbconvert_exporter": "python",
   "pygments_lexer": "ipython3",
   "version": "3.6.10"
  }
 },
 "nbformat": 4,
 "nbformat_minor": 2
}
